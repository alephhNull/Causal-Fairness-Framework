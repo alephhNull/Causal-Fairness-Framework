{
 "cells": [
  {
   "cell_type": "code",
   "execution_count": 2,
   "id": "initial_id",
   "metadata": {
    "collapsed": true,
    "ExecuteTime": {
     "end_time": "2025-02-03T16:16:52.597454200Z",
     "start_time": "2025-02-03T16:16:52.573742200Z"
    }
   },
   "outputs": [
    {
     "ename": "ImportError",
     "evalue": "attempted relative import with no known parent package",
     "output_type": "error",
     "traceback": [
      "\u001B[1;31m---------------------------------------------------------------------------\u001B[0m",
      "\u001B[1;31mImportError\u001B[0m                               Traceback (most recent call last)",
      "Cell \u001B[1;32mIn[2], line 5\u001B[0m\n\u001B[0;32m      2\u001B[0m \u001B[38;5;28;01mfrom\u001B[39;00m \u001B[38;5;21;01msklearn\u001B[39;00m\u001B[38;5;21;01m.\u001B[39;00m\u001B[38;5;21;01mmetrics\u001B[39;00m \u001B[38;5;28;01mimport\u001B[39;00m accuracy_score\n\u001B[0;32m      4\u001B[0m \u001B[38;5;66;03m# Import custom modules (adjust paths if needed)\u001B[39;00m\n\u001B[1;32m----> 5\u001B[0m \u001B[38;5;28;01mfrom\u001B[39;00m \u001B[38;5;21;01m.\u001B[39;00m\u001B[38;5;21;01m.\u001B[39;00m\u001B[38;5;21;01mpreprocess\u001B[39;00m \u001B[38;5;28;01mimport\u001B[39;00m load_dataset, preprocess_dataset\n\u001B[0;32m      6\u001B[0m \u001B[38;5;28;01mfrom\u001B[39;00m \u001B[38;5;21;01mmodel\u001B[39;00m \u001B[38;5;28;01mimport\u001B[39;00m MLPClassifier, predict_nn, train_nn_adversarial\n\u001B[0;32m      7\u001B[0m \u001B[38;5;28;01mfrom\u001B[39;00m \u001B[38;5;21;01mcausal_analysis\u001B[39;00m \u001B[38;5;28;01mimport\u001B[39;00m estimate_causal_effect, creat_causal_model\n",
      "\u001B[1;31mImportError\u001B[0m: attempted relative import with no known parent package"
     ]
    }
   ],
   "source": [
    "import warnings\n",
    "from sklearn.metrics import accuracy_score\n",
    "\n",
    "from preprocess import load_dataset, preprocess_dataset\n",
    "from model import MLPClassifier, predict_nn, train_nn_adversarial\n",
    "from causal_analysis import estimate_causal_effect, creat_causal_model\n",
    "from fairness_metrics import compute_fairness_metrics\n",
    "from visualization import plot_repair_effect\n",
    "\n",
    "# Ignore warnings to keep the output clean\n",
    "warnings.simplefilter(action='ignore', category=UserWarning)\n",
    "warnings.simplefilter(action='ignore', category=FutureWarning)\n"
   ]
  },
  {
   "cell_type": "code",
   "outputs": [],
   "source": [
    "# Define file path and relevant columns\n",
    "file_path = '../data/adult.csv'\n",
    "relevant_columns = [\n",
    "    'age', 'workclass', 'fnlwgt', 'education.num', 'marital.status',\n",
    "    'occupation', 'relationship', 'race', 'sex', 'capital.gain',\n",
    "    'capital.loss', 'hours.per.week', 'native.country', 'income'\n",
    "]\n",
    "target_column = 'income'\n",
    "\n",
    "# Load and preprocess data\n",
    "data = load_dataset(file_path)\n",
    "# Convert income to a binary variable (0 or 1)\n",
    "data['income'] = (data['income'] == '>50K').astype(int)\n",
    "\n",
    "# Preprocess the dataset and split into train and test sets\n",
    "(X_train, X_test, y_train, y_test), processed_data = preprocess_dataset(\n",
    "    data, relevant_cols=relevant_columns, target_column=target_column\n",
    ")\n",
    "\n",
    "print(f\"Training Data Shape: {X_train.shape}\")\n",
    "print(f\"Testing Data Shape: {X_test.shape}\")\n"
   ],
   "metadata": {
    "collapsed": false
   },
   "id": "f1d84da011c31c48"
  },
  {
   "cell_type": "code",
   "outputs": [],
   "source": [
    "# Fairness Metrics Before Repair\n",
    "compute_fairness_metrics(X_test, y_test, title=\"BEFORE REPAIR\")\n",
    "\n",
    "# Define the causal graph in DOT format\n",
    "causal_graph = \"\"\"\n",
    "digraph {\n",
    "    sex_Male -> income;\n",
    "    sex_Male -> education_num;\n",
    "    education_num -> income;\n",
    "    hours_per_week -> income;\n",
    "    sex_Male -> hours_per_week;\n",
    "    age -> income;\n",
    "}\n",
    "\"\"\"\n",
    "\n",
    "# Prepare data for causal analysis (select test rows from processed_data)\n",
    "processed_data_test = processed_data.loc[X_test.index, :].copy()\n",
    "\n",
    "# Create the causal model using the provided graph, sensitive attribute, and outcome\n",
    "causal_model = creat_causal_model(processed_data_test, causal_graph, \"sex_Male\", \"income\")\n",
    "causal_model.view_model()  # This should display the causal graph\n",
    "\n",
    "# Estimate the causal effect before repair\n",
    "effect_before = estimate_causal_effect(causal_model)\n",
    "print(f\"\\n=== Causal Effect BEFORE Repair ===\")\n",
    "print(f\"Estimated Total Effect of Gender on Income: {effect_before.value:.4f}\")\n"
   ],
   "metadata": {
    "collapsed": false
   },
   "id": "d562f6b6e3a0c91e"
  },
  {
   "cell_type": "code",
   "outputs": [],
   "source": [
    "# Define feature columns to be used in the model\n",
    "feature_cols = ['education_num', 'hours_per_week', 'age']\n",
    "\n",
    "# Assume 'sex_Male' is stored in X_train (adjust if necessary)\n",
    "s_train = X_train['sex_Male']\n",
    "\n",
    "# Train the neural network model\n",
    "model_nn, scaler = train_nn_adversarial(X_train, y_train, s_train, feature_cols, n_epochs=500, lambda_=10)\n",
    "\n",
    "# Predict on the test set\n",
    "y_pred = predict_nn(model_nn, X_test, feature_cols, scaler)\n",
    "print(f\"\\nTest Accuracy (NN): {accuracy_score(y_test, y_pred):.4f}\")\n"
   ],
   "metadata": {
    "collapsed": false
   },
   "id": "adb3251430ce5c9c"
  },
  {
   "cell_type": "code",
   "outputs": [],
   "source": [
    "# Optionally, if you have a counterfactual repair function, you might generate counterfactual predictions here\n",
    "# For example:\n",
    "# df_results = generate_counterfactuals(X_test, model_nn, scaler, feature_cols, y_test)\n",
    "\n",
    "# Fairness Metrics After Repair\n",
    "compute_fairness_metrics(X_test, y_pred.squeeze(), title=\"AFTER REPAIR\")\n",
    "\n",
    "# Update the processed test data with the new predicted income values\n",
    "processed_data_test[\"income\"] = y_pred\n",
    "\n",
    "# Create a new causal model with the repaired/predicted outcome\n",
    "causal_model_after = creat_causal_model(processed_data_test, causal_graph, \"sex_Male\", \"income\")\n",
    "effect_after = estimate_causal_effect(causal_model_after)\n",
    "print(f\"\\n=== Causal Effect AFTER Repair ===\")\n",
    "print(f\"Estimated Total Effect of Gender on Income: {effect_after.value:.4f}\")\n",
    "\n",
    "# Visualize the repair effect\n",
    "plot_repair_effect(X_test, y_test, y_pred.squeeze())\n"
   ],
   "metadata": {
    "collapsed": false
   },
   "id": "8cbfefe28b096cb7"
  },
  {
   "cell_type": "code",
   "outputs": [],
   "source": [],
   "metadata": {
    "collapsed": false
   },
   "id": "566404b4fcb3ab3e"
  }
 ],
 "metadata": {
  "kernelspec": {
   "display_name": "Python 3",
   "language": "python",
   "name": "python3"
  },
  "language_info": {
   "codemirror_mode": {
    "name": "ipython",
    "version": 2
   },
   "file_extension": ".py",
   "mimetype": "text/x-python",
   "name": "python",
   "nbconvert_exporter": "python",
   "pygments_lexer": "ipython2",
   "version": "2.7.6"
  }
 },
 "nbformat": 4,
 "nbformat_minor": 5
}
